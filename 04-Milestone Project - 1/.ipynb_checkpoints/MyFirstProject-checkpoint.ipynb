{
 "cells": [
  {
   "cell_type": "code",
   "execution_count": 16,
   "metadata": {},
   "outputs": [],
   "source": [
    "myboard = [(7,8,9),(4,5,6),(1,2,3)]\n",
    "winCombination = [(7,8,9),(4,5,6),(1,2,3),(7,4,1),(8,5,2),(9,6,3),(7,5,3),(9,5,1)]\n",
    "num_of_turns = 9\n",
    "player_sel = {1:' ',2:' ',3:' ',4:' ',5:' ',6:' ',7:' ',8:' ',9:' '}"
   ]
  },
  {
   "cell_type": "code",
   "execution_count": 17,
   "metadata": {},
   "outputs": [
    {
     "data": {
      "text/plain": [
       "3"
      ]
     },
     "execution_count": 17,
     "metadata": {},
     "output_type": "execute_result"
    }
   ],
   "source": [
    "len(myboard[1])"
   ]
  },
  {
   "cell_type": "code",
   "execution_count": 18,
   "metadata": {},
   "outputs": [],
   "source": [
    "def disp_board(board):\n",
    "    \n",
    "    row_index = 0\n",
    "    column_index = 0\n",
    "    col = []\n",
    "    while row_index < len(board):\n",
    "        col = board[row_index]\n",
    "        print(f'{player_sel[col[0]]}| {player_sel[col[1]]} | {player_sel[col[2]]} |')\n",
    "        row_index = row_index + 1\n",
    "        if row_index < len(board):\n",
    "            print('-------')\n",
    "        \n",
    "        \n",
    "    \n",
    "    \n",
    "    \n",
    "#     for rows in board:\n",
    "#         for columns in board:\n",
    "#             print(' |  |  |')\n",
    "#             break\n",
    "#         if (rows) < len(rows):\n",
    "#             print('---------')\n",
    "    "
   ]
  },
  {
   "cell_type": "code",
   "execution_count": 19,
   "metadata": {},
   "outputs": [
    {
     "name": "stdout",
     "output_type": "stream",
     "text": [
      " |   |   |\n",
      "-------\n",
      " |   |   |\n",
      "-------\n",
      " |   |   |\n"
     ]
    }
   ],
   "source": [
    "disp_board(myboard)"
   ]
  },
  {
   "cell_type": "code",
   "execution_count": 20,
   "metadata": {},
   "outputs": [
    {
     "name": "stdout",
     "output_type": "stream",
     "text": [
      "Do you want to be \"X\" or \"Y\"?Y\n"
     ]
    }
   ],
   "source": [
    "first_player = input('Do you want to be \"X\" or \"Y\"?')"
   ]
  },
  {
   "cell_type": "code",
   "execution_count": 21,
   "metadata": {},
   "outputs": [
    {
     "data": {
      "text/plain": [
       "'Y'"
      ]
     },
     "execution_count": 21,
     "metadata": {},
     "output_type": "execute_result"
    }
   ],
   "source": [
    "first_player"
   ]
  },
  {
   "cell_type": "code",
   "execution_count": 22,
   "metadata": {},
   "outputs": [],
   "source": [
    "second_player = ''\n",
    "if 'X' in first_player:\n",
    "    second_player = 'Y'\n",
    "else:\n",
    "    second_player = 'X'"
   ]
  },
  {
   "cell_type": "code",
   "execution_count": 23,
   "metadata": {},
   "outputs": [
    {
     "data": {
      "text/plain": [
       "'X'"
      ]
     },
     "execution_count": 23,
     "metadata": {},
     "output_type": "execute_result"
    }
   ],
   "source": [
    "second_player\n"
   ]
  },
  {
   "cell_type": "code",
   "execution_count": 24,
   "metadata": {},
   "outputs": [],
   "source": [
    "def play_game(first_player, second_player):\n",
    "    \n",
    "    turn_number = 1\n",
    "    user_entered = 0\n",
    "    is_first_player = True\n",
    "    win_announced = False\n",
    "    while turn_number <= num_of_turns:\n",
    "        print(f'Turn Number: {turn_number}')\n",
    "        if is_first_player:\n",
    "            user_entered = int(input(f'Player 1 ({first_player}): what is your selection?'))\n",
    "            print(f'user_entered: {user_entered}')\n",
    "            is_first_player = False\n",
    "            while(int(user_entered) <=0 or int(user_entered) > 9 or ' ' not in player_sel[int(user_entered)] ):\n",
    "                user_entered = input(f'Player 1 ({first_player}): Enter value between 1 and 9 or select different number')\n",
    "            player_sel[user_entered] = first_player.upper()\n",
    "        else:\n",
    "            user_entered = int(input(f'Player 2 ({second_player}): what is your selection?'))\n",
    "            print(f'user_entered: {user_entered}')\n",
    "            print(f'user_entered: {user_entered}')\n",
    "            is_first_player = True\n",
    "            while(int(user_entered) <=0 or int(user_entered) > 9 or ' ' not in player_sel[int(user_entered)] ):\n",
    "                user_entered = input(f'Player 2 ({second_player}): Enter value between 1 and 9 or select different number')\n",
    "            player_sel[int(user_entered)] = second_player.upper()\n",
    "        turn_number = turn_number + 1\n",
    "        disp_board(myboard)\n",
    "        for (x,y,z) in winCombination:\n",
    "            if player_sel[x] == player_sel[y] == player_sel[z] != ' ':\n",
    "                if player_sel[x] == player_sel[y] == player_sel[z]:\n",
    "                    print (f'{player_sel[x]} wins the game')\n",
    "                    win_announced = True\n",
    "                    break\n",
    "        if win_announced:\n",
    "            break\n",
    "    else:\n",
    "        print('No winner')\n",
    "        \n",
    "        "
   ]
  },
  {
   "cell_type": "code",
   "execution_count": 25,
   "metadata": {},
   "outputs": [
    {
     "name": "stdout",
     "output_type": "stream",
     "text": [
      "Turn Number: 1\n",
      "Player 1 (Y): what is your selection?1\n",
      "user_entered: 1\n",
      " |   |   |\n",
      "-------\n",
      " |   |   |\n",
      "-------\n",
      "Y|   |   |\n",
      "  wins the game\n"
     ]
    }
   ],
   "source": [
    "play_game(first_player,second_player)"
   ]
  },
  {
   "cell_type": "code",
   "execution_count": 149,
   "metadata": {},
   "outputs": [
    {
     "data": {
      "text/plain": [
       "{1: '',\n",
       " 2: '',\n",
       " 3: '',\n",
       " 4: '',\n",
       " 5: '',\n",
       " 6: '',\n",
       " 7: '',\n",
       " 8: '',\n",
       " 9: '',\n",
       " '2': 'Y',\n",
       " '3': 'Y',\n",
       " '4': 'X',\n",
       " '1': 'X',\n",
       " '5': 'Y'}"
      ]
     },
     "execution_count": 149,
     "metadata": {},
     "output_type": "execute_result"
    }
   ],
   "source": [
    "player_sel"
   ]
  }
 ],
 "metadata": {
  "kernelspec": {
   "display_name": "Python 3",
   "language": "python",
   "name": "python3"
  },
  "language_info": {
   "codemirror_mode": {
    "name": "ipython",
    "version": 3
   },
   "file_extension": ".py",
   "mimetype": "text/x-python",
   "name": "python",
   "nbconvert_exporter": "python",
   "pygments_lexer": "ipython3",
   "version": "3.7.3"
  }
 },
 "nbformat": 4,
 "nbformat_minor": 2
}
