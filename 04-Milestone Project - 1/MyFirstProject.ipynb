{
 "cells": [
  {
   "cell_type": "code",
   "execution_count": 34,
   "metadata": {},
   "outputs": [],
   "source": [
    "myboard = [(7,8,9),(4,5,6),(1,2,3)]\n",
    "winCombination = [(7,8,9),(4,5,6),(1,2,3),(7,4,1),(8,5,2),(9,6,3),(7,5,3),(9,5,1)]\n",
    "num_of_turns = 9\n",
    "player_sel = {1:' ',2:' ',3:' ',4:' ',5:' ',6:' ',7:' ',8:' ',9:' '}"
   ]
  },
  {
   "cell_type": "code",
   "execution_count": 15,
   "metadata": {},
   "outputs": [
    {
     "data": {
      "text/plain": [
       "True"
      ]
     },
     "execution_count": 15,
     "metadata": {},
     "output_type": "execute_result"
    }
   ],
   "source": [
    " (7,8,9) in winCombination"
   ]
  },
  {
   "cell_type": "code",
   "execution_count": 33,
   "metadata": {},
   "outputs": [
    {
     "data": {
      "text/plain": [
       "3"
      ]
     },
     "execution_count": 33,
     "metadata": {},
     "output_type": "execute_result"
    }
   ],
   "source": [
    "len(myboard[1])"
   ]
  },
  {
   "cell_type": "code",
   "execution_count": 54,
   "metadata": {},
   "outputs": [],
   "source": [
    "def disp_board(board):\n",
    "    \n",
    "    row_index = 0\n",
    "    column_index = 0\n",
    "    col = []\n",
    "    while row_index < len(board):\n",
    "        col = board[row_index]\n",
    "        print(f'{player_sel[col[0]]} |{player_sel[col[1]]} |{player_sel[col[2]]} |')\n",
    "        row_index = row_index + 1\n",
    "        if row_index < len(board):\n",
    "            print('---------')\n",
    "        \n",
    "        \n",
    "    \n",
    "    \n",
    "    \n",
    "#     for rows in board:\n",
    "#         for columns in board:\n",
    "#             print(' |  |  |')\n",
    "#             break\n",
    "#         if (rows) < len(rows):\n",
    "#             print('---------')\n",
    "    "
   ]
  },
  {
   "cell_type": "code",
   "execution_count": 37,
   "metadata": {},
   "outputs": [
    {
     "name": "stdout",
     "output_type": "stream",
     "text": [
      "  |  |  |\n",
      "---------\n",
      "  |  |  |\n",
      "---------\n",
      "  |  |  |\n"
     ]
    }
   ],
   "source": [
    "disp_board(myboard)"
   ]
  },
  {
   "cell_type": "code",
   "execution_count": 38,
   "metadata": {},
   "outputs": [
    {
     "name": "stdout",
     "output_type": "stream",
     "text": [
      "Do you want to be \"X\" or \"Y\"?X\n"
     ]
    }
   ],
   "source": [
    "first_player = input('Do you want to be \"X\" or \"Y\"?')"
   ]
  },
  {
   "cell_type": "code",
   "execution_count": 39,
   "metadata": {},
   "outputs": [
    {
     "data": {
      "text/plain": [
       "'X'"
      ]
     },
     "execution_count": 39,
     "metadata": {},
     "output_type": "execute_result"
    }
   ],
   "source": [
    "first_player"
   ]
  },
  {
   "cell_type": "code",
   "execution_count": 40,
   "metadata": {},
   "outputs": [],
   "source": [
    "second_player = ''\n",
    "if 'X' in first_player:\n",
    "    second_player = 'Y'\n",
    "else:\n",
    "    second_player = 'X'"
   ]
  },
  {
   "cell_type": "code",
   "execution_count": 6,
   "metadata": {},
   "outputs": [
    {
     "ename": "NameError",
     "evalue": "name 'second_player' is not defined",
     "output_type": "error",
     "traceback": [
      "\u001b[1;31m---------------------------------------------------------------------------\u001b[0m",
      "\u001b[1;31mNameError\u001b[0m                                 Traceback (most recent call last)",
      "\u001b[1;32m<ipython-input-6-fe462137f65d>\u001b[0m in \u001b[0;36m<module>\u001b[1;34m\u001b[0m\n\u001b[1;32m----> 1\u001b[1;33m \u001b[0msecond_player\u001b[0m\u001b[1;33m\u001b[0m\u001b[1;33m\u001b[0m\u001b[0m\n\u001b[0m",
      "\u001b[1;31mNameError\u001b[0m: name 'second_player' is not defined"
     ]
    }
   ],
   "source": [
    "second_player\n"
   ]
  },
  {
   "cell_type": "code",
   "execution_count": 55,
   "metadata": {},
   "outputs": [],
   "source": [
    "def define_player():\n",
    "    player1 =''\n",
    "    player2 = ''\n",
    "    while player1 != 'X' and player1 != 'O':\n",
    "        player1 = input('Player 1 Enter \"X\" or \"O\": ')\n",
    "    # assign player markers\n",
    "    if player1 == 'X':\n",
    "        player2 = 'O'\n",
    "    else:\n",
    "        player2 = 'X'\n",
    "    return (player1,player2)"
   ]
  },
  {
   "cell_type": "code",
   "execution_count": 62,
   "metadata": {},
   "outputs": [],
   "source": [
    "def start_game():\n",
    "    \n",
    "    #define constants\n",
    "#     myboard = [(7,8,9),(4,5,6),(1,2,3)]\n",
    "#     winCombination = [(7,8,9),(4,5,6),(1,2,3),(7,4,1),(8,5,2),(9,6,3),(7,5,3),(9,5,1)]\n",
    "#     num_of_turns = 9\n",
    "#     player_sel = {1:' ',2:' ',3:' ',4:' ',5:' ',6:' ',7:' ',8:' ',9:' '}\n",
    "    \n",
    "    #Get Player one and Player two\n",
    "    first_player, second_player = define_player()\n",
    "    print(first_player)\n",
    "    print(second_player)\n",
    "    play_game(first_player,second_player)\n",
    "    "
   ]
  },
  {
   "cell_type": "code",
   "execution_count": 63,
   "metadata": {},
   "outputs": [
    {
     "name": "stdout",
     "output_type": "stream",
     "text": [
      "Player 1 Enter \"X\" or \"O\": O\n",
      "O\n",
      "X\n",
      "Player 1 (O): what is your selection?6\n",
      "  |  |  |\n",
      "---------\n",
      "  |  |O |\n",
      "---------\n",
      "  |  |  |\n",
      "Player 2 (X): what is your selection?6\n",
      "Player 2 (X): Enter value between 1 and 9 or select different number2\n",
      "  |  |  |\n",
      "---------\n",
      "  |  |O |\n",
      "---------\n",
      "  |X |  |\n",
      "Player 1 (O): what is your selection?4\n",
      "  |  |  |\n",
      "---------\n",
      "O |  |O |\n",
      "---------\n",
      "  |X |  |\n",
      "Player 2 (X): what is your selection?7\n",
      "X |  |  |\n",
      "---------\n",
      "O |  |O |\n",
      "---------\n",
      "  |X |  |\n",
      "Player 1 (O): what is your selection?5\n",
      "X |  |  |\n",
      "---------\n",
      "O |O |O |\n",
      "---------\n",
      "  |X |  |\n",
      "O wins the game\n",
      "Do you want to restart the game?: N\n"
     ]
    }
   ],
   "source": [
    "myboard = [(7,8,9),(4,5,6),(1,2,3)]\n",
    "winCombination = [(7,8,9),(4,5,6),(1,2,3),(7,4,1),(8,5,2),(9,6,3),(7,5,3),(9,5,1)]\n",
    "num_of_turns = 9\n",
    "player_sel = {1:' ',2:' ',3:' ',4:' ',5:' ',6:' ',7:' ',8:' ',9:' '}\n",
    "allowed_boxes = (1,2,3,4,5,6,7,8,9)\n",
    "start_game()"
   ]
  },
  {
   "cell_type": "code",
   "execution_count": 64,
   "metadata": {},
   "outputs": [],
   "source": [
    "def play_game(first_player, second_player):\n",
    "    \n",
    "    turn_number = 1\n",
    "    user_entered = 0\n",
    "    is_first_player = True\n",
    "    win_announced = False\n",
    "    restart =''\n",
    "    while turn_number <= num_of_turns:\n",
    "       # print(f'Turn Number: {turn_number}')\n",
    "        if is_first_player:\n",
    "            user_entered = input(f'Player 1 ({first_player}): what is your selection?')\n",
    "           # print(f'user_entered: {user_entered}')\n",
    "            is_first_player = False\n",
    "            while(not user_entered.isdigit() or is_allowed_num(user_entered)\n",
    "                 # or int(user_entered) <=0 or int(user_entered) > 9 \n",
    "                  or is_not_marked(user_entered) \n",
    "                 ):\n",
    "                user_entered = input(f'Player 1 ({first_player}): Enter value between 1 and 9 or select different number')\n",
    "            player_sel[int(user_entered)] = first_player.upper()\n",
    "        else:\n",
    "            user_entered = input(f'Player 2 ({second_player}): what is your selection?')\n",
    "           # print(f'user_entered: {user_entered}')\n",
    "           # print(f'user_entered: {user_entered}')\n",
    "            is_first_player = True\n",
    "            while(not user_entered.isdigit() or is_allowed_num(user_entered)\n",
    "                 # or int(user_entered) <=0 or int(user_entered) > 9 \n",
    "                  or is_not_marked(user_entered) \n",
    "                 ):                \n",
    "                user_entered = input(f'Player 2 ({second_player}): Enter value between 1 and 9 or select different number')\n",
    "            player_sel[int(user_entered)] = second_player.upper()\n",
    "        turn_number = turn_number + 1\n",
    "        disp_board(myboard)\n",
    "        for (x,y,z) in winCombination:\n",
    "            if player_sel[x] == player_sel[y] == player_sel[z] != ' ':\n",
    "                if player_sel[x] == player_sel[y] == player_sel[z]:\n",
    "                    print (f'{player_sel[x]} wins the game')\n",
    "                    win_announced = True\n",
    "                    break\n",
    "        if win_announced:\n",
    "            while restart !='Y' and restart != 'N':\n",
    "                restart = input ('Do you want to restart the game? - \"Y\" or \"N\": ')\n",
    "            if restart == 'Y':\n",
    "                resetgame()\n",
    "            break\n",
    "    else:\n",
    "        print('No winner')\n",
    "        \n",
    "        "
   ]
  },
  {
   "cell_type": "code",
   "execution_count": 57,
   "metadata": {},
   "outputs": [],
   "source": [
    "def resetgame():\n",
    "    myboard = [(7,8,9),(4,5,6),(1,2,3)]\n",
    "    winCombination = [(7,8,9),(4,5,6),(1,2,3),(7,4,1),(8,5,2),(9,6,3),(7,5,3),(9,5,1)]\n",
    "    num_of_turns = 9\n",
    "    player_sel = {1:' ',2:' ',3:' ',4:' ',5:' ',6:' ',7:' ',8:' ',9:' '}\n",
    "    allowed_boxes = (1,2,3,4,5,6,7,8,9)\n",
    "    start_game()"
   ]
  },
  {
   "cell_type": "code",
   "execution_count": 58,
   "metadata": {},
   "outputs": [],
   "source": [
    "def is_allowed_num(num):\n",
    "    return int(num) not in allowed_boxes"
   ]
  },
  {
   "cell_type": "code",
   "execution_count": 59,
   "metadata": {},
   "outputs": [],
   "source": [
    "def is_not_marked(num):\n",
    "    return ' ' not in player_sel[int(num)]"
   ]
  },
  {
   "cell_type": "markdown",
   "metadata": {},
   "source": [
    "play_game(first_player,second_player)"
   ]
  },
  {
   "cell_type": "code",
   "execution_count": 33,
   "metadata": {},
   "outputs": [
    {
     "data": {
      "text/plain": [
       "{1: 'O',\n",
       " 2: 'O',\n",
       " 3: 'O',\n",
       " 4: ' ',\n",
       " 5: 'O',\n",
       " 6: 'O',\n",
       " 7: ' ',\n",
       " 8: 'O',\n",
       " 9: ' ',\n",
       " '5': 'X',\n",
       " '4': 'X',\n",
       " '7': 'X'}"
      ]
     },
     "execution_count": 33,
     "metadata": {},
     "output_type": "execute_result"
    }
   ],
   "source": [
    "player_sel"
   ]
  }
 ],
 "metadata": {
  "kernelspec": {
   "display_name": "Python 3",
   "language": "python",
   "name": "python3"
  },
  "language_info": {
   "codemirror_mode": {
    "name": "ipython",
    "version": 3
   },
   "file_extension": ".py",
   "mimetype": "text/x-python",
   "name": "python",
   "nbconvert_exporter": "python",
   "pygments_lexer": "ipython3",
   "version": "3.7.3"
  }
 },
 "nbformat": 4,
 "nbformat_minor": 2
}
